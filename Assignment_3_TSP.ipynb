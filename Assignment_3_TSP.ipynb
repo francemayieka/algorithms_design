{
  "nbformat": 4,
  "nbformat_minor": 0,
  "metadata": {
    "colab": {
      "provenance": [],
      "authorship_tag": "ABX9TyND0zvNchUtSmnOYTmqeEOt",
      "include_colab_link": true
    },
    "kernelspec": {
      "name": "python3",
      "display_name": "Python 3"
    },
    "language_info": {
      "name": "python"
    }
  },
  "cells": [
    {
      "cell_type": "markdown",
      "metadata": {
        "id": "view-in-github",
        "colab_type": "text"
      },
      "source": [
        "<a href=\"https://colab.research.google.com/github/francis-100/algorithms_design/blob/main/Assignment_3_TSP.ipynb\" target=\"_parent\"><img src=\"https://colab.research.google.com/assets/colab-badge.svg\" alt=\"Open In Colab\"/></a>"
      ]
    },
    {
      "cell_type": "markdown",
      "source": [
        "####**a. Derivation of the MST Heuristic from a Relaxed Version of the TSP**"
      ],
      "metadata": {
        "id": "7QZtrKbeLVSw"
      }
    },
    {
      "cell_type": "code",
      "execution_count": 1,
      "metadata": {
        "colab": {
          "base_uri": "https://localhost:8080/",
          "height": 447
        },
        "id": "Azhg8vOmKrJC",
        "outputId": "a056c9a7-9ab8-4256-a3c7-058e486f925b"
      },
      "outputs": [
        {
          "output_type": "display_data",
          "data": {
            "text/plain": [
              "<Figure size 640x480 with 1 Axes>"
            ],
            "image/png": "[encoded data removed]"
          },
          "metadata": {}
        },
        {
          "output_type": "stream",
          "name": "stdout",
          "text": [
            "MST heuristic cost: 2.149364422424191\n"
          ]
        }
      ],
      "source": [
        "import random\n",
        "import networkx as nx\n",
        "import matplotlib.pyplot as plt\n",
        "\n",
        "def generate_random_tsp_instance(n):\n",
        "    points = [(random.random(), random.random()) for _ in range(n)]\n",
        "    return points\n",
        "\n",
        "def plot_points(points):\n",
        "    plt.scatter(*zip(*points))\n",
        "    plt.show()\n",
        "\n",
        "def mst_heuristic(points):\n",
        "    G = nx.complete_graph(len(points))\n",
        "    pos = {i: point for i, point in enumerate(points)}\n",
        "    for i in range(len(points)):\n",
        "        for j in range(i + 1, len(points)):\n",
        "            G[i][j]['weight'] = ((points[i][0] - points[j][0]) ** 2 + (points[i][1] - points[j][1]) ** 2) ** 0.5\n",
        "    mst = nx.minimum_spanning_tree(G)\n",
        "    return sum(edge[2]['weight'] for edge in mst.edges(data=True))\n",
        "\n",
        "# Example usage\n",
        "num_cities = 10\n",
        "points = generate_random_tsp_instance(num_cities)\n",
        "plot_points(points)\n",
        "mst_cost = mst_heuristic(points)\n",
        "print(\"MST heuristic cost:\", mst_cost)\n"
      ]
    },
    {
      "cell_type": "markdown",
      "source": [
        "####**b. Show that the MST Heuristic Dominates Straight-Line Distance**"
      ],
      "metadata": {
        "id": "YOmWfxJBLbuq"
      }
    },
    {
      "cell_type": "code",
      "source": [
        "def straight_line_distance(points):\n",
        "    total_distance = 0\n",
        "    for i in range(len(points) - 1):\n",
        "        total_distance += ((points[i][0] - points[i+1][0]) ** 2 + (points[i][1] - points[i+1][1]) ** 2) ** 0.5\n",
        "    return total_distance\n",
        "\n",
        "# Example usage\n",
        "straight_line_cost = straight_line_distance(points)\n",
        "print(\"Straight-line distance heuristic cost:\", straight_line_cost)\n",
        "print(\"MST heuristic cost dominates:\", mst_cost <= straight_line_cost)\n"
      ],
      "metadata": {
        "colab": {
          "base_uri": "https://localhost:8080/"
        },
        "id": "f7bu72qtK3Ey",
        "outputId": "85eda38e-462f-488c-a6c4-ecd4d6107ef9"
      },
      "execution_count": 2,
      "outputs": [
        {
          "output_type": "stream",
          "name": "stdout",
          "text": [
            "Straight-line distance heuristic cost: 4.8702002667971955\n",
            "MST heuristic cost dominates: True\n"
          ]
        }
      ]
    },
    {
      "cell_type": "markdown",
      "source": [
        "####**c. Problem Generator for TSP Instances**"
      ],
      "metadata": {
        "id": "k2-yc8J8LhFn"
      }
    },
    {
      "cell_type": "code",
      "source": [
        "import random\n",
        "\n",
        "def generate_tsp_instance(n):\n",
        "    cities = [(random.random(), random.random()) for _ in range(n)]\n",
        "    return cities\n",
        "\n",
        "# Example usage\n",
        "num_cities = 10\n",
        "tsp_instance = generate_tsp_instance(num_cities)\n",
        "print(tsp_instance)\n"
      ],
      "metadata": {
        "colab": {
          "base_uri": "https://localhost:8080/"
        },
        "id": "f37aaJqsK22r",
        "outputId": "1b0ebd57-2446-4c29-f4ef-89e3e4ca811f"
      },
      "execution_count": 3,
      "outputs": [
        {
          "output_type": "stream",
          "name": "stdout",
          "text": [
            "[(0.7337529203025541, 0.462082544283128), (0.822844018264965, 0.6219795432451025), (0.022018447945832742, 0.17627340603527475), (0.8150368956476561, 0.5989306764600472), (0.21007533681282953, 0.08892888068222549), (0.16152517668155864, 0.8857494844196864), (0.7206621324946643, 0.9717959434441515), (0.633273142838259, 0.17339051629098878), (0.9248212359374112, 0.2745192283638507), (0.6825154717365435, 0.9484045339154248)]\n"
          ]
        }
      ]
    },
    {
      "cell_type": "markdown",
      "source": [
        "####**d. Efficient MST Algorithm and Admissible Search Algorithm for TSP**\n",
        "\n",
        "**Prim's Algorithm for Constructing the MST**"
      ],
      "metadata": {
        "id": "hceikOVeLmkz"
      }
    },
    {
      "cell_type": "code",
      "source": [
        "import heapq\n",
        "\n",
        "def prim_mst(points):\n",
        "    n = len(points)\n",
        "    if n == 0:\n",
        "        return 0\n",
        "    edges = []\n",
        "    for i in range(n):\n",
        "        for j in range(i + 1, n):\n",
        "            dist = ((points[i][0] - points[j][0]) ** 2 + (points[i][1] - points[j][1]) ** 2) ** 0.5\n",
        "            edges.append((dist, i, j))\n",
        "    edges.sort()\n",
        "    parent = list(range(n))\n",
        "\n",
        "    def find(x):\n",
        "        if parent[x] != x:\n",
        "            parent[x] = find(parent[x])\n",
        "        return parent[x]\n",
        "\n",
        "    def union(x, y):\n",
        "        rootX = find(x)\n",
        "        rootY = find(y)\n",
        "        if rootX != rootY:\n",
        "            parent[rootY] = rootX\n",
        "\n",
        "    mst_cost = 0\n",
        "    for cost, u, v in edges:\n",
        "        if find(u) != find(v):\n",
        "            union(u, v)\n",
        "            mst_cost += cost\n",
        "    return mst_cost\n",
        "\n",
        "# Example usage\n",
        "mst_cost = prim_mst(points)\n",
        "print(\"MST cost using Prim's algorithm:\", mst_cost)\n"
      ],
      "metadata": {
        "colab": {
          "base_uri": "https://localhost:8080/"
        },
        "id": "xYr6cf0rK2pc",
        "outputId": "8572c61f-de5f-414a-bf5d-e5061711cbfc"
      },
      "execution_count": 4,
      "outputs": [
        {
          "output_type": "stream",
          "name": "stdout",
          "text": [
            "MST cost using Prim's algorithm: 2.149364422424191\n"
          ]
        }
      ]
    },
    {
      "cell_type": "markdown",
      "source": [
        "#### Admissible Search Algorithm (A* with MST Heuristic) for Solving the TSP"
      ],
      "metadata": {
        "id": "oti1aCYzMPRv"
      }
    },
    {
      "cell_type": "code",
      "source": [
        "from heapq import heappush, heappop\n",
        "\n",
        "def tsp_a_star(points):\n",
        "    n = len(points)\n",
        "    if n == 0:\n",
        "        return 0\n",
        "\n",
        "    def heuristic(current_path):\n",
        "        remaining_points = set(range(n)) - set(current_path)\n",
        "        if not remaining_points:\n",
        "            return 0\n",
        "        remaining_points = [points[i] for i in remaining_points]\n",
        "        return mst_heuristic(remaining_points)\n",
        "\n",
        "    start = 0\n",
        "    pq = [(0 + heuristic([start]), 0, [start], 0)]\n",
        "    while pq:\n",
        "        est_total_cost, g_cost, current_path, current_node = heappop(pq)\n",
        "        if len(current_path) == n:\n",
        "            return g_cost + ((points[current_node][0] - points[start][0]) ** 2 + (points[current_node][1] - points[start][1]) ** 2) ** 0.5\n",
        "\n",
        "        for next_node in range(n):\n",
        "            if next_node not in current_path:\n",
        "                new_path = current_path + [next_node]\n",
        "                new_g_cost = g_cost + ((points[current_node][0] - points[next_node][0]) ** 2 + (points[current_node][1] - points[next_node][1]) ** 2) ** 0.5\n",
        "                heappush(pq, (new_g_cost + heuristic(new_path), new_g_cost, new_path, next_node))\n",
        "\n",
        "# Example usage\n",
        "tsp_cost = tsp_a_star(points)\n",
        "print(\"TSP cost using A* with MST heuristic:\", tsp_cost)\n"
      ],
      "metadata": {
        "colab": {
          "base_uri": "https://localhost:8080/"
        },
        "id": "-AWYLusyLARv",
        "outputId": "30f3d36a-36d5-42bc-b4c1-e4b2c86f4d74"
      },
      "execution_count": 5,
      "outputs": [
        {
          "output_type": "stream",
          "name": "stdout",
          "text": [
            "TSP cost using A* with MST heuristic: 3.823310807096604\n"
          ]
        }
      ]
    }
  ]
}