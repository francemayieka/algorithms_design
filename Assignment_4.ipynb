{
  "nbformat": 4,
  "nbformat_minor": 0,
  "metadata": {
    "colab": {
      "provenance": [],
      "authorship_tag": "ABX9TyMpPA1F24UaMsQKdx/Sr3hr",
      "include_colab_link": true
    },
    "kernelspec": {
      "name": "python3",
      "display_name": "Python 3"
    },
    "language_info": {
      "name": "python"
    }
  },
  "cells": [
    {
      "cell_type": "markdown",
      "metadata": {
        "id": "view-in-github",
        "colab_type": "text"
      },
      "source": [
        "<a href=\"https://colab.research.google.com/github/francis-100/algorithms_design/blob/main/Assignment_4.ipynb\" target=\"_parent\"><img src=\"https://colab.research.google.com/assets/colab-badge.svg\" alt=\"Open In Colab\"/></a>"
      ]
    },
    {
      "cell_type": "code",
      "execution_count": 1,
      "metadata": {
        "colab": {
          "base_uri": "https://localhost:8080/"
        },
        "id": "hJjNNoWdNAkQ",
        "outputId": "ec35c0c9-e7b3-4b70-cd22-8e6b341a79fb"
      },
      "outputs": [
        {
          "output_type": "stream",
          "name": "stdout",
          "text": [
            "[0, 1]\n",
            "[0, 1, 2, 3]\n",
            "[0]\n"
          ]
        }
      ],
      "source": [
        "from collections import deque, defaultdict\n",
        "\n",
        "class Solution:\n",
        "    def findOrder(self, numCourses, prerequisites):\n",
        "        # Create the adjacency list representation of the graph\n",
        "        graph = defaultdict(list)\n",
        "        in_degree = [0] * numCourses\n",
        "\n",
        "        # Build the graph and record the in-degrees\n",
        "        for dest, src in prerequisites:\n",
        "            graph[src].append(dest)\n",
        "            in_degree[dest] += 1\n",
        "\n",
        "        # Initialize the queue with all courses having zero in-degree\n",
        "        queue = deque([i for i in range(numCourses) if in_degree[i] == 0])\n",
        "        order = []\n",
        "\n",
        "        while queue:\n",
        "            course = queue.popleft()\n",
        "            order.append(course)\n",
        "\n",
        "            # Reduce the in-degree of each neighbor by 1\n",
        "            for neighbor in graph[course]:\n",
        "                in_degree[neighbor] -= 1\n",
        "                # If in-degree becomes zero, add the neighbor to the queue\n",
        "                if in_degree[neighbor] == 0:\n",
        "                    queue.append(neighbor)\n",
        "\n",
        "        # If the order contains all courses, return the order\n",
        "        if len(order) == numCourses:\n",
        "            return order\n",
        "        else:\n",
        "            # If there is a cycle (not all courses can be taken), return an empty list\n",
        "            return []\n",
        "\n",
        "# Example usage:\n",
        "solution = Solution()\n",
        "\n",
        "numCourses1 = 2\n",
        "prerequisites1 = [[1, 0]]\n",
        "print(solution.findOrder(numCourses1, prerequisites1))  # Output: [0, 1]\n",
        "\n",
        "numCourses2 = 4\n",
        "prerequisites2 = [[1, 0], [2, 0], [3, 1], [3, 2]]\n",
        "print(solution.findOrder(numCourses2, prerequisites2))  # Output: [0, 1, 2, 3] or [0, 2, 1, 3]\n",
        "\n",
        "numCourses3 = 1\n",
        "prerequisites3 = []\n",
        "print(solution.findOrder(numCourses3, prerequisites3))  # Output: [0]"
      ]
    },
    {
      "cell_type": "code",
      "source": [
        "from typing import List\n",
        "\n",
        "class Solution:\n",
        "    def findRedundantConnection(self, edges: List[List[int]]) -> List[int]:\n",
        "        # Function to find the root of a node with path compression\n",
        "        def find(parent, i):\n",
        "            if parent[i] != i:\n",
        "                parent[i] = find(parent, parent[i])\n",
        "            return parent[i]\n",
        "\n",
        "        # Function to union two subsets\n",
        "        def union(parent, rank, x, y):\n",
        "            rootX = find(parent, x)\n",
        "            rootY = find(parent, y)\n",
        "\n",
        "            if rootX != rootY:\n",
        "                if rank[rootX] > rank[rootY]:\n",
        "                    parent[rootY] = rootX\n",
        "                elif rank[rootX] < rank[rootY]:\n",
        "                    parent[rootX] = rootY\n",
        "                else:\n",
        "                    parent[rootY] = rootX\n",
        "                    rank[rootX] += 1\n",
        "\n",
        "        # Initialization\n",
        "        n = len(edges)\n",
        "        parent = [i for i in range(n + 1)]\n",
        "        rank = [0] * (n + 1)\n",
        "\n",
        "        # Process each edge\n",
        "        for edge in edges:\n",
        "            x, y = edge\n",
        "            if find(parent, x) == find(parent, y):\n",
        "                return edge\n",
        "            else:\n",
        "                union(parent, rank, x, y)\n",
        "\n",
        "# Example usage:\n",
        "solution = Solution()\n",
        "\n",
        "# Example 1\n",
        "edges1 = [[1, 2], [1, 3], [2, 3]]\n",
        "print(solution.findRedundantConnection(edges1))  # Output: [2, 3]\n",
        "\n",
        "# Example 2\n",
        "edges2 = [[1, 2], [2, 3], [3, 4], [1, 4], [1, 5]]\n",
        "print(solution.findRedundantConnection(edges2))  # Output: [1, 4]\n"
      ],
      "metadata": {
        "colab": {
          "base_uri": "https://localhost:8080/"
        },
        "id": "gutcYbfPOOKY",
        "outputId": "0cd8c644-8228-4a87-e78a-be40bd74aec9"
      },
      "execution_count": 2,
      "outputs": [
        {
          "output_type": "stream",
          "name": "stdout",
          "text": [
            "[2, 3]\n",
            "[1, 4]\n"
          ]
        }
      ]
    }
  ]
}