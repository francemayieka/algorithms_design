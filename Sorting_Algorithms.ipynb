{
  "nbformat": 4,
  "nbformat_minor": 0,
  "metadata": {
    "colab": {
      "provenance": [],
      "authorship_tag": "ABX9TyOjFcIxt5pX0QygFMn9/022",
      "include_colab_link": true
    },
    "kernelspec": {
      "name": "python3",
      "display_name": "Python 3"
    },
    "language_info": {
      "name": "python"
    }
  },
  "cells": [
    {
      "cell_type": "markdown",
      "metadata": {
        "id": "view-in-github",
        "colab_type": "text"
      },
      "source": [
        "<a href=\"https://colab.research.google.com/github/francis-100/algorithms_design/blob/main/Sorting_Algorithms.ipynb\" target=\"_parent\"><img src=\"https://colab.research.google.com/assets/colab-badge.svg\" alt=\"Open In Colab\"/></a>"
      ]
    },
    {
      "cell_type": "code",
      "execution_count": 3,
      "metadata": {
        "colab": {
          "base_uri": "https://localhost:8080/"
        },
        "id": "96SFZ2kM2qB5",
        "outputId": "3143a035-ea1e-4274-a29d-01419327c03f"
      },
      "outputs": [
        {
          "output_type": "stream",
          "name": "stdout",
          "text": [
            "[1, 1, 2, 3, 6, 8, 10]\n"
          ]
        }
      ],
      "source": [
        "def quick_sort(arr):\n",
        "    if len(arr) <= 1:\n",
        "        return arr\n",
        "    pivot = arr[len(arr) // 2]\n",
        "    left = [x for x in arr if x < pivot]\n",
        "    middle = [x for x in arr if x == pivot]\n",
        "    right = [x for x in arr if x > pivot]\n",
        "    return quick_sort(left) + middle + quick_sort(right)\n",
        "\n",
        "# Example usage\n",
        "arr = [3, 6, 8, 10, 1, 2, 1]\n",
        "print(quick_sort(arr))"
      ]
    },
    {
      "cell_type": "code",
      "source": [
        "def bubble_sort(arr):\n",
        "    n = len(arr)\n",
        "    for i in range(n):\n",
        "        for j in range(0, n - i - 1):\n",
        "            if arr[j] > arr[j + 1]:\n",
        "                arr[j], arr[j + 1] = arr[j + 1], arr[j]\n",
        "    return arr\n",
        "\n",
        "# Example usage\n",
        "arr = [64, 34, 25, 12, 22, 11, 90]\n",
        "print(bubble_sort(arr))"
      ],
      "metadata": {
        "colab": {
          "base_uri": "https://localhost:8080/"
        },
        "id": "az7RuFuI3Cs4",
        "outputId": "bf4e7d49-8346-4809-e817-ac7c18a49202"
      },
      "execution_count": 4,
      "outputs": [
        {
          "output_type": "stream",
          "name": "stdout",
          "text": [
            "[11, 12, 22, 25, 34, 64, 90]\n"
          ]
        }
      ]
    },
    {
      "cell_type": "code",
      "source": [
        "def selection_sort(arr):\n",
        "    n = len(arr)\n",
        "    for i in range(n):\n",
        "        min_idx = i\n",
        "        for j in range(i + 1, n):\n",
        "            if arr[j] < arr[min_idx]:\n",
        "                min_idx = j\n",
        "        arr[i], arr[min_idx] = arr[min_idx], arr[i]\n",
        "    return arr\n",
        "\n",
        "# Example usage\n",
        "arr = [64, 25, 12, 22, 11]\n",
        "print(selection_sort(arr))"
      ],
      "metadata": {
        "colab": {
          "base_uri": "https://localhost:8080/"
        },
        "id": "wY6XhBWp3GtS",
        "outputId": "550ddc5b-c6c6-42e2-f73c-cc615e31c3bf"
      },
      "execution_count": 5,
      "outputs": [
        {
          "output_type": "stream",
          "name": "stdout",
          "text": [
            "[11, 12, 22, 25, 64]\n"
          ]
        }
      ]
    },
    {
      "cell_type": "code",
      "source": [
        "def insertion_sort(arr):\n",
        "    for i in range(1, len(arr)):\n",
        "        key = arr[i]\n",
        "        j = i - 1\n",
        "        while j >= 0 and key < arr[j]:\n",
        "            arr[j + 1] = arr[j]\n",
        "            j -= 1\n",
        "        arr[j + 1] = key\n",
        "    return arr\n",
        "\n",
        "# Example usage\n",
        "arr = [12, 11, 13, 5, 6]\n",
        "print(insertion_sort(arr))"
      ],
      "metadata": {
        "colab": {
          "base_uri": "https://localhost:8080/"
        },
        "id": "7Ec1Vufc3KCp",
        "outputId": "58e6310c-0cf7-4a20-d184-aad8873a8295"
      },
      "execution_count": 6,
      "outputs": [
        {
          "output_type": "stream",
          "name": "stdout",
          "text": [
            "[5, 6, 11, 12, 13]\n"
          ]
        }
      ]
    },
    {
      "cell_type": "code",
      "source": [
        "def merge_sort(arr):\n",
        "    if len(arr) > 1:\n",
        "        mid = len(arr) // 2\n",
        "        L = arr[:mid]\n",
        "        R = arr[mid:]\n",
        "\n",
        "        merge_sort(L)\n",
        "        merge_sort(R)\n",
        "\n",
        "        i = j = k = 0\n",
        "\n",
        "        while i < len(L) and j < len(R):\n",
        "            if L[i] < R[j]:\n",
        "                arr[k] = L[i]\n",
        "                i += 1\n",
        "            else:\n",
        "                arr[k] = R[j]\n",
        "                j += 1\n",
        "            k += 1\n",
        "\n",
        "        while i < len(L):\n",
        "            arr[k] = L[i]\n",
        "            i += 1\n",
        "            k += 1\n",
        "\n",
        "        while j < len(R):\n",
        "            arr[k] = R[j]\n",
        "            j += 1\n",
        "            k += 1\n",
        "    return arr\n",
        "\n",
        "# Example usage\n",
        "arr = [12, 11, 13, 5, 6, 7]\n",
        "print(merge_sort(arr))"
      ],
      "metadata": {
        "colab": {
          "base_uri": "https://localhost:8080/"
        },
        "id": "0Tx8vcHl3Pep",
        "outputId": "c1bc1c4c-6f31-4363-81ca-2b1220158898"
      },
      "execution_count": 7,
      "outputs": [
        {
          "output_type": "stream",
          "name": "stdout",
          "text": [
            "[5, 6, 7, 11, 12, 13]\n"
          ]
        }
      ]
    },
    {
      "cell_type": "code",
      "source": [
        "def shell_sort(arr):\n",
        "    n = len(arr)\n",
        "    gap = n // 2\n",
        "\n",
        "    while gap > 0:\n",
        "        for i in range(gap, n):\n",
        "            temp = arr[i]\n",
        "            j = i\n",
        "            while j >= gap and arr[j - gap] > temp:\n",
        "                arr[j] = arr[j - gap]\n",
        "                j -= gap\n",
        "            arr[j] = temp\n",
        "        gap //= 2\n",
        "    return arr\n",
        "\n",
        "# Example usage\n",
        "arr = [12, 34, 54, 2, 3]\n",
        "print(shell_sort(arr))"
      ],
      "metadata": {
        "colab": {
          "base_uri": "https://localhost:8080/"
        },
        "id": "0pduW-3M3Qt2",
        "outputId": "26752650-84fa-4971-ce9c-7bbd79b6a2a0"
      },
      "execution_count": 8,
      "outputs": [
        {
          "output_type": "stream",
          "name": "stdout",
          "text": [
            "[2, 3, 12, 34, 54]\n"
          ]
        }
      ]
    },
    {
      "cell_type": "code",
      "source": [
        "def counting_sort_for_radix(arr, exp):\n",
        "    n = len(arr)\n",
        "    output = [0] * n\n",
        "    count = [0] * 10\n",
        "\n",
        "    for i in arr:\n",
        "        index = i // exp\n",
        "        count[index % 10] += 1\n",
        "\n",
        "    for i in range(1, 10):\n",
        "        count[i] += count[i - 1]\n",
        "\n",
        "    i = n - 1\n",
        "    while i >= 0:\n",
        "        index = arr[i] // exp\n",
        "        output[count[index % 10] - 1] = arr[i]\n",
        "        count[index % 10] -= 1\n",
        "        i -= 1\n",
        "\n",
        "    for i in range(n):\n",
        "        arr[i] = output[i]\n",
        "\n",
        "def radix_sort(arr):\n",
        "    max1 = max(arr)\n",
        "    exp = 1\n",
        "    while max1 // exp > 0:\n",
        "        counting_sort_for_radix(arr, exp)\n",
        "        exp *= 10\n",
        "    return arr\n",
        "\n",
        "# Example usage\n",
        "arr = [170, 45, 75, 90, 802, 24, 2, 66]\n",
        "print(radix_sort(arr))"
      ],
      "metadata": {
        "colab": {
          "base_uri": "https://localhost:8080/"
        },
        "id": "YVztOZ8x3T41",
        "outputId": "2cf940c5-a250-464b-f331-e4f9171a64f4"
      },
      "execution_count": 9,
      "outputs": [
        {
          "output_type": "stream",
          "name": "stdout",
          "text": [
            "[2, 24, 45, 66, 75, 90, 170, 802]\n"
          ]
        }
      ]
    },
    {
      "cell_type": "code",
      "source": [
        "def heapify(arr, n, i):\n",
        "    largest = i\n",
        "    l = 2 * i + 1\n",
        "    r = 2 * i + 2\n",
        "\n",
        "    if l < n and arr[l] > arr[largest]:\n",
        "        largest = l\n",
        "\n",
        "    if r < n and arr[r] > arr[largest]:\n",
        "        largest = r\n",
        "\n",
        "    if largest != i:\n",
        "        arr[i], arr[largest] = arr[largest], arr[i]\n",
        "        heapify(arr, n, largest)\n",
        "\n",
        "def heap_sort(arr):\n",
        "    n = len(arr)\n",
        "\n",
        "    for i in range(n // 2 - 1, -1, -1):\n",
        "        heapify(arr, n, i)\n",
        "\n",
        "    for i in range(n - 1, 0, -1):\n",
        "        arr[i], arr[0] = arr[0], arr[i]\n",
        "        heapify(arr, i, 0)\n",
        "    return arr\n",
        "\n",
        "# Example usage\n",
        "arr = [12, 11, 13, 5, 6, 7]\n",
        "print(heap_sort(arr))"
      ],
      "metadata": {
        "colab": {
          "base_uri": "https://localhost:8080/"
        },
        "id": "RwXWpeZS3WwK",
        "outputId": "0eee6dff-ec95-412d-c4bc-4f51dc4e412e"
      },
      "execution_count": 10,
      "outputs": [
        {
          "output_type": "stream",
          "name": "stdout",
          "text": [
            "[5, 6, 7, 11, 12, 13]\n"
          ]
        }
      ]
    },
    {
      "cell_type": "code",
      "source": [
        "def bucket_sort(arr):\n",
        "    if len(arr) == 0:\n",
        "        return arr\n",
        "\n",
        "    bucket_count = 10\n",
        "    min_value, max_value = min(arr), max(arr)\n",
        "    bucket_range = (max_value - min_value) / bucket_count\n",
        "    buckets = [[] for _ in range(bucket_count)]\n",
        "\n",
        "    for i in arr:\n",
        "        index = int((i - min_value) / bucket_range)\n",
        "        if index == bucket_count:\n",
        "            index -= 1\n",
        "        buckets[index].append(i)\n",
        "\n",
        "    for bucket in buckets:\n",
        "        bucket.sort()\n",
        "\n",
        "    sorted_arr = []\n",
        "    for bucket in buckets:\n",
        "        sorted_arr.extend(bucket)\n",
        "    return sorted_arr\n",
        "\n",
        "# Example usage\n",
        "arr = [0.897, 0.565, 0.656, 0.123, 0.665, 0.3434]\n",
        "print(bucket_sort(arr))"
      ],
      "metadata": {
        "colab": {
          "base_uri": "https://localhost:8080/"
        },
        "id": "1qlcu0eC3c5K",
        "outputId": "2c066f7d-d774-4cad-9fb5-2ffeb91ea309"
      },
      "execution_count": 11,
      "outputs": [
        {
          "output_type": "stream",
          "name": "stdout",
          "text": [
            "[0.123, 0.3434, 0.565, 0.656, 0.665, 0.897]\n"
          ]
        }
      ]
    }
  ]
}