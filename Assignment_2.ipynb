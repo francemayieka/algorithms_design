{
  "nbformat": 4,
  "nbformat_minor": 0,
  "metadata": {
    "colab": {
      "provenance": [],
      "authorship_tag": "ABX9TyMaOiog6RpqVgL9RAN79ujs",
      "include_colab_link": true
    },
    "kernelspec": {
      "name": "python3",
      "display_name": "Python 3"
    },
    "language_info": {
      "name": "python"
    }
  },
  "cells": [
    {
      "cell_type": "markdown",
      "metadata": {
        "id": "view-in-github",
        "colab_type": "text"
      },
      "source": [
        "<a href=\"https://colab.research.google.com/github/francis-100/algorithms_design/blob/main/Assignment_2.ipynb\" target=\"_parent\"><img src=\"https://colab.research.google.com/assets/colab-badge.svg\" alt=\"Open In Colab\"/></a>"
      ]
    },
    {
      "cell_type": "markdown",
      "source": [
        "**Question 1**\n",
        "Find First and Last Position of Element in Sorted Array\n",
        "Medium\n",
        "20354\n",
        "\n",
        "512\n",
        "\n",
        "Add to List\n",
        "\n",
        "Share\n",
        "Given an array of integers nums sorted in non-decreasing order, find the starting and ending position of a given target value.\n",
        "\n",
        "If target is not found in the array, return [-1, -1].\n",
        "\n",
        "You must write an algorithm with O(log n) runtime complexity.\n",
        "\n",
        "Example 1:\n",
        "\n",
        "Input: nums = [5,7,7,8,8,10], target = 8\n",
        "Output: [3,4]\n",
        "Example 2:\n",
        "\n",
        "Input: nums = [5,7,7,8,8,10], target = 6\n",
        "Output: [-1,-1]\n",
        "Example 3:\n",
        "\n",
        "Input: nums = [], target = 0\n",
        "Output: [-1,-1]\n",
        "\n",
        "Constraints:\n",
        "\n",
        "0 <= nums.length <= 105\n",
        "-109 <= nums[i] <= 109\n",
        "nums is a non-decreasing array.\n",
        "-109 <= target <= 109"
      ],
      "metadata": {
        "id": "G7EZB-O846AU"
      }
    },
    {
      "cell_type": "code",
      "execution_count": 1,
      "metadata": {
        "colab": {
          "base_uri": "https://localhost:8080/"
        },
        "id": "wy6Oo-3i3z6j",
        "outputId": "c81a97bb-f11f-4149-ef64-dfae3bc937c6"
      },
      "outputs": [
        {
          "output_type": "stream",
          "name": "stdout",
          "text": [
            "[3, 4]\n",
            "[-1, -1]\n",
            "[-1, -1]\n"
          ]
        }
      ],
      "source": [
        "class Solution:\n",
        "    def searchRange(self, nums, target):\n",
        "        def find_first(nums, target):\n",
        "            left, right = 0, len(nums) - 1\n",
        "            first_pos = -1\n",
        "            while left <= right:\n",
        "                mid = (left + right) // 2\n",
        "                if nums[mid] == target:\n",
        "                    first_pos = mid\n",
        "                    right = mid - 1\n",
        "                elif nums[mid] < target:\n",
        "                    left = mid + 1\n",
        "                else:\n",
        "                    right = mid - 1\n",
        "            return first_pos\n",
        "\n",
        "        def find_last(nums, target):\n",
        "            left, right = 0, len(nums) - 1\n",
        "            last_pos = -1\n",
        "            while left <= right:\n",
        "                mid = (left + right) // 2\n",
        "                if nums[mid] == target:\n",
        "                    last_pos = mid\n",
        "                    left = mid + 1\n",
        "                elif nums[mid] < target:\n",
        "                    left = mid + 1\n",
        "                else:\n",
        "                    right = mid - 1\n",
        "            return last_pos\n",
        "\n",
        "        first_pos = find_first(nums, target)\n",
        "        if first_pos == -1:\n",
        "            return [-1, -1]  # target not found\n",
        "        last_pos = find_last(nums, target)\n",
        "\n",
        "        return [first_pos, last_pos]\n",
        "\n",
        "# Example usage\n",
        "if __name__ == \"__main__\":\n",
        "    solution = Solution()\n",
        "\n",
        "    nums1 = [5, 7, 7, 8, 8, 10]\n",
        "    target1 = 8\n",
        "    print(solution.searchRange(nums1, target1))  # Output: [3, 4]\n",
        "\n",
        "    nums2 = [5, 7, 7, 8, 8, 10]\n",
        "    target2 = 6\n",
        "    print(solution.searchRange(nums2, target2))  # Output: [-1, -1]\n",
        "\n",
        "    nums3 = []\n",
        "    target3 = 0\n",
        "    print(solution.searchRange(nums3, target3))  # Output: [-1, -1]"
      ]
    },
    {
      "cell_type": "markdown",
      "source": [
        "**Question 2**\n",
        "Binary Search: Given an array of integers nums which is sorted in ascending order, and an integer target, write a function to search target in nums. If target exists, then return its index. Otherwise, return -1.\n",
        "\n",
        "You must write an algorithm with O(log n) runtime complexity.\n",
        "\n",
        "Example 1:\n",
        "\n",
        "Input: nums = [-1,0,3,5,9,12], target = 9\n",
        "Output: 4\n",
        "Explanation: 9 exists in nums and its index is 4\n",
        "Example 2:\n",
        "\n",
        "Input: nums = [-1,0,3,5,9,12], target = 2\n",
        "Output: -1\n",
        "Explanation: 2 does not exist in nums so return -1\n",
        "\n",
        "Constraints:\n",
        "\n",
        "1 <= nums.length <= 104\n",
        "-104 < nums[i], target < 104\n",
        "All the integers in nums are unique.\n",
        "nums is sorted in ascending order."
      ],
      "metadata": {
        "id": "lRB-QpJA4gZs"
      }
    },
    {
      "cell_type": "code",
      "source": [
        "class Solution:\n",
        "    def search(self, nums, target):\n",
        "        left, right = 0, len(nums) - 1\n",
        "\n",
        "        while left <= right:\n",
        "            mid = (left + right) // 2\n",
        "\n",
        "            if nums[mid] == target:\n",
        "                return mid\n",
        "            elif nums[mid] < target:\n",
        "                left = mid + 1\n",
        "            else:\n",
        "                right = mid - 1\n",
        "\n",
        "        return -1\n",
        "\n",
        "# Example usage\n",
        "solution = Solution()\n",
        "\n",
        "# Test case 1\n",
        "nums1 = [-1, 0, 3, 5, 9, 12]\n",
        "target1 = 9\n",
        "print(solution.search(nums1, target1))  # Output: 4\n",
        "\n",
        "# Test case 2\n",
        "nums2 = [-1, 0, 3, 5, 9, 12]\n",
        "target2 = 2\n",
        "print(solution.search(nums2, target2))  # Output: -1"
      ],
      "metadata": {
        "colab": {
          "base_uri": "https://localhost:8080/"
        },
        "id": "w2K8WvnJ4Y3l",
        "outputId": "f0b0356e-b1df-4429-e3d6-8bc3529fb54b"
      },
      "execution_count": 2,
      "outputs": [
        {
          "output_type": "stream",
          "name": "stdout",
          "text": [
            "4\n",
            "-1\n"
          ]
        }
      ]
    }
  ]
}